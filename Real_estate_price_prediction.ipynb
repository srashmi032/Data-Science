{
 "cells": [
  {
   "cell_type": "code",
   "execution_count": 2,
   "id": "17e21bfd",
   "metadata": {},
   "outputs": [],
   "source": [
    " import pandas as pd\n",
    "import numpy as np\n",
    "import matplotlib.pyplot as plt"
   ]
  },
  {
   "cell_type": "code",
   "execution_count": 3,
   "id": "0b84bdf2",
   "metadata": {},
   "outputs": [],
   "source": [
    "house_data=pd.read_csv(\"/Users/rashmi/Desktop/ML/real_estate_prediction/boston.csv\")"
   ]
  },
  {
   "cell_type": "code",
   "execution_count": 4,
   "id": "43856c04",
   "metadata": {},
   "outputs": [
    {
     "name": "stdout",
     "output_type": "stream",
     "text": [
      "      CRIM    ZN  INDUS  CHAS    NOX     RM   AGE     DIS  RAD    TAX  \\\n",
      "0  0.00632  18.0   2.31     0  0.538  6.575  65.2  4.0900    1  296.0   \n",
      "1  0.02731   0.0   7.07     0  0.469  6.421  78.9  4.9671    2  242.0   \n",
      "2  0.02729   0.0   7.07     0  0.469  7.185  61.1  4.9671    2  242.0   \n",
      "3  0.03237   0.0   2.18     0  0.458  6.998  45.8  6.0622    3  222.0   \n",
      "4  0.06905   0.0   2.18     0  0.458  7.147  54.2  6.0622    3  222.0   \n",
      "\n",
      "   PTRATIO       B  LSTAT  MEDV  \n",
      "0     15.3  396.90   4.98  24.0  \n",
      "1     17.8  396.90   9.14  21.6  \n",
      "2     17.8  392.83   4.03  34.7  \n",
      "3     18.7  394.63   2.94  33.4  \n",
      "4     18.7  396.90   5.33  36.2  \n"
     ]
    }
   ],
   "source": [
    "print (house_data.head())"
   ]
  },
  {
   "cell_type": "code",
   "execution_count": 5,
   "id": "338feb31",
   "metadata": {},
   "outputs": [
    {
     "data": {
      "text/plain": [
       "(506, 14)"
      ]
     },
     "execution_count": 5,
     "metadata": {},
     "output_type": "execute_result"
    }
   ],
   "source": [
    "house_data.shape"
   ]
  },
  {
   "cell_type": "code",
   "execution_count": 6,
   "id": "18fbfea3",
   "metadata": {},
   "outputs": [
    {
     "data": {
      "text/html": [
       "<div>\n",
       "<style scoped>\n",
       "    .dataframe tbody tr th:only-of-type {\n",
       "        vertical-align: middle;\n",
       "    }\n",
       "\n",
       "    .dataframe tbody tr th {\n",
       "        vertical-align: top;\n",
       "    }\n",
       "\n",
       "    .dataframe thead th {\n",
       "        text-align: right;\n",
       "    }\n",
       "</style>\n",
       "<table border=\"1\" class=\"dataframe\">\n",
       "  <thead>\n",
       "    <tr style=\"text-align: right;\">\n",
       "      <th></th>\n",
       "      <th>CRIM</th>\n",
       "      <th>ZN</th>\n",
       "      <th>INDUS</th>\n",
       "      <th>CHAS</th>\n",
       "      <th>NOX</th>\n",
       "      <th>RM</th>\n",
       "      <th>AGE</th>\n",
       "      <th>DIS</th>\n",
       "      <th>RAD</th>\n",
       "      <th>TAX</th>\n",
       "      <th>PTRATIO</th>\n",
       "      <th>B</th>\n",
       "      <th>LSTAT</th>\n",
       "      <th>MEDV</th>\n",
       "    </tr>\n",
       "  </thead>\n",
       "  <tbody>\n",
       "    <tr>\n",
       "      <th>count</th>\n",
       "      <td>506.000000</td>\n",
       "      <td>506.000000</td>\n",
       "      <td>506.000000</td>\n",
       "      <td>506.000000</td>\n",
       "      <td>506.000000</td>\n",
       "      <td>506.000000</td>\n",
       "      <td>506.000000</td>\n",
       "      <td>506.000000</td>\n",
       "      <td>506.000000</td>\n",
       "      <td>506.000000</td>\n",
       "      <td>506.000000</td>\n",
       "      <td>506.000000</td>\n",
       "      <td>506.000000</td>\n",
       "      <td>506.000000</td>\n",
       "    </tr>\n",
       "    <tr>\n",
       "      <th>mean</th>\n",
       "      <td>3.613524</td>\n",
       "      <td>11.363636</td>\n",
       "      <td>11.136779</td>\n",
       "      <td>0.069170</td>\n",
       "      <td>0.554695</td>\n",
       "      <td>6.284634</td>\n",
       "      <td>68.574901</td>\n",
       "      <td>3.795043</td>\n",
       "      <td>9.549407</td>\n",
       "      <td>408.237154</td>\n",
       "      <td>18.455534</td>\n",
       "      <td>356.674032</td>\n",
       "      <td>12.653063</td>\n",
       "      <td>22.532806</td>\n",
       "    </tr>\n",
       "    <tr>\n",
       "      <th>std</th>\n",
       "      <td>8.601545</td>\n",
       "      <td>23.322453</td>\n",
       "      <td>6.860353</td>\n",
       "      <td>0.253994</td>\n",
       "      <td>0.115878</td>\n",
       "      <td>0.702617</td>\n",
       "      <td>28.148861</td>\n",
       "      <td>2.105710</td>\n",
       "      <td>8.707259</td>\n",
       "      <td>168.537116</td>\n",
       "      <td>2.164946</td>\n",
       "      <td>91.294864</td>\n",
       "      <td>7.141062</td>\n",
       "      <td>9.197104</td>\n",
       "    </tr>\n",
       "    <tr>\n",
       "      <th>min</th>\n",
       "      <td>0.006320</td>\n",
       "      <td>0.000000</td>\n",
       "      <td>0.460000</td>\n",
       "      <td>0.000000</td>\n",
       "      <td>0.385000</td>\n",
       "      <td>3.561000</td>\n",
       "      <td>2.900000</td>\n",
       "      <td>1.129600</td>\n",
       "      <td>1.000000</td>\n",
       "      <td>187.000000</td>\n",
       "      <td>12.600000</td>\n",
       "      <td>0.320000</td>\n",
       "      <td>1.730000</td>\n",
       "      <td>5.000000</td>\n",
       "    </tr>\n",
       "    <tr>\n",
       "      <th>25%</th>\n",
       "      <td>0.082045</td>\n",
       "      <td>0.000000</td>\n",
       "      <td>5.190000</td>\n",
       "      <td>0.000000</td>\n",
       "      <td>0.449000</td>\n",
       "      <td>5.885500</td>\n",
       "      <td>45.025000</td>\n",
       "      <td>2.100175</td>\n",
       "      <td>4.000000</td>\n",
       "      <td>279.000000</td>\n",
       "      <td>17.400000</td>\n",
       "      <td>375.377500</td>\n",
       "      <td>6.950000</td>\n",
       "      <td>17.025000</td>\n",
       "    </tr>\n",
       "    <tr>\n",
       "      <th>50%</th>\n",
       "      <td>0.256510</td>\n",
       "      <td>0.000000</td>\n",
       "      <td>9.690000</td>\n",
       "      <td>0.000000</td>\n",
       "      <td>0.538000</td>\n",
       "      <td>6.208500</td>\n",
       "      <td>77.500000</td>\n",
       "      <td>3.207450</td>\n",
       "      <td>5.000000</td>\n",
       "      <td>330.000000</td>\n",
       "      <td>19.050000</td>\n",
       "      <td>391.440000</td>\n",
       "      <td>11.360000</td>\n",
       "      <td>21.200000</td>\n",
       "    </tr>\n",
       "    <tr>\n",
       "      <th>75%</th>\n",
       "      <td>3.677082</td>\n",
       "      <td>12.500000</td>\n",
       "      <td>18.100000</td>\n",
       "      <td>0.000000</td>\n",
       "      <td>0.624000</td>\n",
       "      <td>6.623500</td>\n",
       "      <td>94.075000</td>\n",
       "      <td>5.188425</td>\n",
       "      <td>24.000000</td>\n",
       "      <td>666.000000</td>\n",
       "      <td>20.200000</td>\n",
       "      <td>396.225000</td>\n",
       "      <td>16.955000</td>\n",
       "      <td>25.000000</td>\n",
       "    </tr>\n",
       "    <tr>\n",
       "      <th>max</th>\n",
       "      <td>88.976200</td>\n",
       "      <td>100.000000</td>\n",
       "      <td>27.740000</td>\n",
       "      <td>1.000000</td>\n",
       "      <td>0.871000</td>\n",
       "      <td>8.780000</td>\n",
       "      <td>100.000000</td>\n",
       "      <td>12.126500</td>\n",
       "      <td>24.000000</td>\n",
       "      <td>711.000000</td>\n",
       "      <td>22.000000</td>\n",
       "      <td>396.900000</td>\n",
       "      <td>37.970000</td>\n",
       "      <td>50.000000</td>\n",
       "    </tr>\n",
       "  </tbody>\n",
       "</table>\n",
       "</div>"
      ],
      "text/plain": [
       "             CRIM          ZN       INDUS        CHAS         NOX          RM  \\\n",
       "count  506.000000  506.000000  506.000000  506.000000  506.000000  506.000000   \n",
       "mean     3.613524   11.363636   11.136779    0.069170    0.554695    6.284634   \n",
       "std      8.601545   23.322453    6.860353    0.253994    0.115878    0.702617   \n",
       "min      0.006320    0.000000    0.460000    0.000000    0.385000    3.561000   \n",
       "25%      0.082045    0.000000    5.190000    0.000000    0.449000    5.885500   \n",
       "50%      0.256510    0.000000    9.690000    0.000000    0.538000    6.208500   \n",
       "75%      3.677082   12.500000   18.100000    0.000000    0.624000    6.623500   \n",
       "max     88.976200  100.000000   27.740000    1.000000    0.871000    8.780000   \n",
       "\n",
       "              AGE         DIS         RAD         TAX     PTRATIO           B  \\\n",
       "count  506.000000  506.000000  506.000000  506.000000  506.000000  506.000000   \n",
       "mean    68.574901    3.795043    9.549407  408.237154   18.455534  356.674032   \n",
       "std     28.148861    2.105710    8.707259  168.537116    2.164946   91.294864   \n",
       "min      2.900000    1.129600    1.000000  187.000000   12.600000    0.320000   \n",
       "25%     45.025000    2.100175    4.000000  279.000000   17.400000  375.377500   \n",
       "50%     77.500000    3.207450    5.000000  330.000000   19.050000  391.440000   \n",
       "75%     94.075000    5.188425   24.000000  666.000000   20.200000  396.225000   \n",
       "max    100.000000   12.126500   24.000000  711.000000   22.000000  396.900000   \n",
       "\n",
       "            LSTAT        MEDV  \n",
       "count  506.000000  506.000000  \n",
       "mean    12.653063   22.532806  \n",
       "std      7.141062    9.197104  \n",
       "min      1.730000    5.000000  \n",
       "25%      6.950000   17.025000  \n",
       "50%     11.360000   21.200000  \n",
       "75%     16.955000   25.000000  \n",
       "max     37.970000   50.000000  "
      ]
     },
     "execution_count": 6,
     "metadata": {},
     "output_type": "execute_result"
    }
   ],
   "source": [
    "house_data.describe()"
   ]
  },
  {
   "cell_type": "code",
   "execution_count": 7,
   "id": "ab9daf82",
   "metadata": {},
   "outputs": [
    {
     "name": "stdout",
     "output_type": "stream",
     "text": [
      "<class 'pandas.core.frame.DataFrame'>\n",
      "RangeIndex: 506 entries, 0 to 505\n",
      "Data columns (total 14 columns):\n",
      "CRIM       506 non-null float64\n",
      "ZN         506 non-null float64\n",
      "INDUS      506 non-null float64\n",
      "CHAS       506 non-null int64\n",
      "NOX        506 non-null float64\n",
      "RM         506 non-null float64\n",
      "AGE        506 non-null float64\n",
      "DIS        506 non-null float64\n",
      "RAD        506 non-null int64\n",
      "TAX        506 non-null float64\n",
      "PTRATIO    506 non-null float64\n",
      "B          506 non-null float64\n",
      "LSTAT      506 non-null float64\n",
      "MEDV       506 non-null float64\n",
      "dtypes: float64(12), int64(2)\n",
      "memory usage: 55.4 KB\n"
     ]
    }
   ],
   "source": [
    "house_data.info() #result shows that there is no missing data"
   ]
  },
  {
   "cell_type": "code",
   "execution_count": 8,
   "id": "2e525b93",
   "metadata": {},
   "outputs": [
    {
     "data": {
      "text/plain": [
       "0    471\n",
       "1     35\n",
       "Name: CHAS, dtype: int64"
      ]
     },
     "execution_count": 8,
     "metadata": {},
     "output_type": "execute_result"
    }
   ],
   "source": [
    "#house_data['CRIM'].value_counts()\n",
    "\n",
    "house_data['CHAS'].value_counts()\n",
    "\n",
    "#house_data['DIS'].value_counts()"
   ]
  },
  {
   "cell_type": "code",
   "execution_count": 9,
   "id": "b1247037",
   "metadata": {},
   "outputs": [
    {
     "data": {
      "text/plain": [
       "100.0    43\n",
       "96.0      4\n",
       "98.2      4\n",
       "95.4      4\n",
       "97.9      4\n",
       "87.9      4\n",
       "98.8      4\n",
       "94.1      3\n",
       "88.0      3\n",
       "21.4      3\n",
       "96.2      3\n",
       "98.9      3\n",
       "97.3      3\n",
       "32.2      3\n",
       "97.0      3\n",
       "92.6      3\n",
       "36.6      3\n",
       "97.4      3\n",
       "95.6      3\n",
       "76.5      3\n",
       "94.5      2\n",
       "91.9      2\n",
       "6.6       2\n",
       "77.7      2\n",
       "18.5      2\n",
       "21.9      2\n",
       "84.1      2\n",
       "94.6      2\n",
       "82.6      2\n",
       "93.6      2\n",
       "         ..\n",
       "77.8      1\n",
       "78.9      1\n",
       "38.1      1\n",
       "66.6      1\n",
       "37.2      1\n",
       "89.9      1\n",
       "74.8      1\n",
       "61.8      1\n",
       "45.6      1\n",
       "78.3      1\n",
       "96.8      1\n",
       "95.7      1\n",
       "62.2      1\n",
       "73.9      1\n",
       "44.4      1\n",
       "97.8      1\n",
       "24.8      1\n",
       "68.2      1\n",
       "35.9      1\n",
       "64.7      1\n",
       "18.8      1\n",
       "46.7      1\n",
       "27.6      1\n",
       "97.7      1\n",
       "81.3      1\n",
       "47.6      1\n",
       "92.7      1\n",
       "13.9      1\n",
       "58.4      1\n",
       "40.1      1\n",
       "Name: AGE, Length: 356, dtype: int64"
      ]
     },
     "execution_count": 9,
     "metadata": {},
     "output_type": "execute_result"
    }
   ],
   "source": [
    "house_data['AGE'].value_counts()"
   ]
  },
  {
   "cell_type": "code",
   "execution_count": 10,
   "id": "b267fe45",
   "metadata": {},
   "outputs": [
    {
     "data": {
      "text/plain": [
       "24    132\n",
       "5     115\n",
       "4     110\n",
       "3      38\n",
       "6      26\n",
       "8      24\n",
       "2      24\n",
       "1      20\n",
       "7      17\n",
       "Name: RAD, dtype: int64"
      ]
     },
     "execution_count": 10,
     "metadata": {},
     "output_type": "execute_result"
    }
   ],
   "source": [
    "house_data['RAD'].value_counts()"
   ]
  },
  {
   "cell_type": "code",
   "execution_count": 11,
   "id": "627921cd",
   "metadata": {},
   "outputs": [],
   "source": [
    "%matplotlib inline"
   ]
  },
  {
   "cell_type": "code",
   "execution_count": 12,
   "id": "775ff705",
   "metadata": {},
   "outputs": [
    {
     "data": {
      "text/plain": [
       "array([[<matplotlib.axes._subplots.AxesSubplot object at 0x108de9550>,\n",
       "        <matplotlib.axes._subplots.AxesSubplot object at 0x1146c60b8>,\n",
       "        <matplotlib.axes._subplots.AxesSubplot object at 0x1146f0320>,\n",
       "        <matplotlib.axes._subplots.AxesSubplot object at 0x114718588>],\n",
       "       [<matplotlib.axes._subplots.AxesSubplot object at 0x11473f9b0>,\n",
       "        <matplotlib.axes._subplots.AxesSubplot object at 0x114767f28>,\n",
       "        <matplotlib.axes._subplots.AxesSubplot object at 0x1147974e0>,\n",
       "        <matplotlib.axes._subplots.AxesSubplot object at 0x1147bda90>],\n",
       "       [<matplotlib.axes._subplots.AxesSubplot object at 0x1147bdac8>,\n",
       "        <matplotlib.axes._subplots.AxesSubplot object at 0x114814588>,\n",
       "        <matplotlib.axes._subplots.AxesSubplot object at 0x11483fb00>,\n",
       "        <matplotlib.axes._subplots.AxesSubplot object at 0x11486e0b8>],\n",
       "       [<matplotlib.axes._subplots.AxesSubplot object at 0x114895630>,\n",
       "        <matplotlib.axes._subplots.AxesSubplot object at 0x1148bdba8>,\n",
       "        <matplotlib.axes._subplots.AxesSubplot object at 0x1148ee160>,\n",
       "        <matplotlib.axes._subplots.AxesSubplot object at 0x1149156d8>]],\n",
       "      dtype=object)"
      ]
     },
     "execution_count": 12,
     "metadata": {},
     "output_type": "execute_result"
    },
    {
     "data": {
      "image/png": "[encoded data removed]",
      "text/plain": [
       "<Figure size 2160x1440 with 16 Axes>"
      ]
     },
     "metadata": {
      "needs_background": "light"
     },
     "output_type": "display_data"
    }
   ],
   "source": [
    "house_data.hist(bins=30,figsize=(30,20))\n"
   ]
  },
  {
   "cell_type": "code",
   "execution_count": 13,
   "id": "3f3eff4a",
   "metadata": {},
   "outputs": [],
   "source": [
    "#split dataset into training and test data\n",
    "def split_data(data,test_ratio):\n",
    "    np.random.seed(42)\n",
    "    shuffle_data=np.random.permutation(len(data))\n",
    "    test_set_len=int(len(data)*test_ratio)\n",
    "    test_indices=shuffle_data[:test_set_len]\n",
    "    train_indices=shuffle_data[test_set_len:]\n",
    "    return data.iloc[train_indices],data.iloc[test_indices]"
   ]
  },
  {
   "cell_type": "code",
   "execution_count": 14,
   "id": "22ad2b67",
   "metadata": {},
   "outputs": [],
   "source": [
    "train_set,test_set=split_data(house_data,0.2)"
   ]
  },
  {
   "cell_type": "code",
   "execution_count": 15,
   "id": "1c0634ec",
   "metadata": {},
   "outputs": [
    {
     "name": "stdout",
     "output_type": "stream",
     "text": [
      "405 101\n"
     ]
    }
   ],
   "source": [
    "print(len(train_set),len(test_set))"
   ]
  },
  {
   "cell_type": "code",
   "execution_count": 16,
   "id": "bc007875",
   "metadata": {},
   "outputs": [
    {
     "name": "stdout",
     "output_type": "stream",
     "text": [
      "         CRIM    ZN  INDUS  CHAS     NOX     RM    AGE     DIS  RAD    TAX  \\\n",
      "75    0.09512   0.0  12.83     0  0.4370  6.286   45.0  4.5026    5  398.0   \n",
      "477  15.02340   0.0  18.10     0  0.6140  5.304   97.3  2.1007   24  666.0   \n",
      "15    0.62739   0.0   8.14     0  0.5380  5.834   56.5  4.4986    4  307.0   \n",
      "332   0.03466  35.0   6.06     0  0.4379  6.031   23.3  6.6407    1  304.0   \n",
      "423   7.05042   0.0  18.10     0  0.6140  6.103   85.1  2.0218   24  666.0   \n",
      "19    0.72580   0.0   8.14     0  0.5380  5.727   69.5  3.7965    4  307.0   \n",
      "325   0.19186   0.0   7.38     0  0.4930  6.431   14.7  5.4159    5  287.0   \n",
      "335   0.03961   0.0   5.19     0  0.5150  6.037   34.5  5.9853    5  224.0   \n",
      "56    0.02055  85.0   0.74     0  0.4100  6.383   35.7  9.1876    2  313.0   \n",
      "437  15.17720   0.0  18.10     0  0.7400  6.152  100.0  1.9142   24  666.0   \n",
      "409  14.43830   0.0  18.10     0  0.5970  6.852  100.0  1.4655   24  666.0   \n",
      "334   0.03738   0.0   5.19     0  0.5150  6.310   38.5  6.4584    5  224.0   \n",
      "181   0.06888   0.0   2.46     0  0.4880  6.144   62.2  2.5979    3  193.0   \n",
      "227   0.41238   0.0   6.20     0  0.5040  7.163   79.9  3.2157    8  307.0   \n",
      "434  13.91340   0.0  18.10     0  0.7130  6.208   95.0  2.2222   24  666.0   \n",
      "180   0.06588   0.0   2.46     0  0.4880  7.765   83.3  2.7410    3  193.0   \n",
      "25    0.84054   0.0   8.14     0  0.5380  5.599   85.7  4.4546    4  307.0   \n",
      "493   0.17331   0.0   9.69     0  0.5850  5.707   54.0  2.3817    6  391.0   \n",
      "238   0.08244  30.0   4.93     0  0.4280  6.481   18.5  6.1899    6  300.0   \n",
      "244   0.20608  22.0   5.86     0  0.4310  5.593   76.5  7.9549    7  330.0   \n",
      "250   0.14030  22.0   5.86     0  0.4310  6.487   13.0  7.3967    7  330.0   \n",
      "418  73.53410   0.0  18.10     0  0.6790  5.957  100.0  1.8026   24  666.0   \n",
      "117   0.15098   0.0  10.01     0  0.5470  6.021   82.6  2.7474    6  432.0   \n",
      "42    0.14150   0.0   6.91     0  0.4480  6.169    6.6  5.7209    3  233.0   \n",
      "322   0.35114   0.0   7.38     0  0.4930  6.041   49.9  4.7211    5  287.0   \n",
      "347   0.01870  85.0   4.15     0  0.4290  6.516   27.7  8.5353    4  351.0   \n",
      "182   0.09103   0.0   2.46     0  0.4880  7.155   92.2  2.7006    3  193.0   \n",
      "155   3.53501   0.0  19.58     1  0.8710  6.152   82.6  1.7455    5  403.0   \n",
      "280   0.03578  20.0   3.33     0  0.4429  7.820   64.5  4.6947    5  216.0   \n",
      "126   0.38735   0.0  25.65     0  0.5810  5.613   95.6  1.7572    2  188.0   \n",
      "..        ...   ...    ...   ...     ...    ...    ...     ...  ...    ...   \n",
      "276   0.10469  40.0   6.41     1  0.4470  7.267   49.0  4.7872    4  254.0   \n",
      "443   9.96654   0.0  18.10     0  0.7400  6.485  100.0  1.9784   24  666.0   \n",
      "191   0.06911  45.0   3.44     0  0.4370  6.739   30.8  6.4798    5  398.0   \n",
      "385  16.81180   0.0  18.10     0  0.7000  5.277   98.1  1.4261   24  666.0   \n",
      "293   0.08265   0.0  13.92     0  0.4370  6.127   18.4  5.5027    4  289.0   \n",
      "413  28.65580   0.0  18.10     0  0.5970  5.155  100.0  1.5894   24  666.0   \n",
      "343   0.02543  55.0   3.78     0  0.4840  6.696   56.4  5.7321    5  370.0   \n",
      "257   0.61154  20.0   3.97     0  0.6470  8.704   86.9  1.8010    5  264.0   \n",
      "308   0.49298   0.0   9.90     0  0.5440  6.635   82.5  3.3175    4  304.0   \n",
      "149   2.73397   0.0  19.58     0  0.8710  5.597   94.9  1.5257    5  403.0   \n",
      "130   0.34006   0.0  21.89     0  0.6240  6.458   98.9  2.1185    4  437.0   \n",
      "151   1.49632   0.0  19.58     0  0.8710  5.404  100.0  1.5916    5  403.0   \n",
      "359   4.26131   0.0  18.10     0  0.7700  6.112   81.3  2.5091   24  666.0   \n",
      "99    0.06860   0.0   2.89     0  0.4450  7.416   62.5  3.4952    2  276.0   \n",
      "372   8.26725   0.0  18.10     1  0.6680  5.875   89.6  1.1296   24  666.0   \n",
      "87    0.07151   0.0   4.49     0  0.4490  6.121   56.8  3.7476    3  247.0   \n",
      "458   7.75223   0.0  18.10     0  0.7130  6.301   83.7  2.7831   24  666.0   \n",
      "330   0.04544   0.0   3.24     0  0.4600  6.144   32.2  5.8736    4  430.0   \n",
      "214   0.28955   0.0  10.59     0  0.4890  5.412    9.8  3.5875    4  277.0   \n",
      "466   3.77498   0.0  18.10     0  0.6550  5.952   84.7  2.8715   24  666.0   \n",
      "121   0.07165   0.0  25.65     0  0.5810  6.004   84.1  2.1974    2  188.0   \n",
      "505   0.04741   0.0  11.93     0  0.5730  6.030   80.8  2.5050    1  273.0   \n",
      "20    1.25179   0.0   8.14     0  0.5380  5.570   98.1  3.7979    4  307.0   \n",
      "188   0.12579  45.0   3.44     0  0.4370  6.556   29.1  4.5667    5  398.0   \n",
      "71    0.15876   0.0  10.81     0  0.4130  5.961   17.5  5.2873    4  305.0   \n",
      "106   0.17120   0.0   8.56     0  0.5200  5.836   91.9  2.2110    5  384.0   \n",
      "270   0.29916  20.0   6.96     0  0.4640  5.856   42.1  4.4290    3  223.0   \n",
      "348   0.01501  80.0   2.01     0  0.4350  6.635   29.7  8.3440    4  280.0   \n",
      "435  11.16040   0.0  18.10     0  0.7400  6.629   94.6  2.1247   24  666.0   \n",
      "102   0.22876   0.0   8.56     0  0.5200  6.405   85.4  2.7147    5  384.0   \n",
      "\n",
      "     PTRATIO       B  LSTAT  MEDV  \n",
      "75      18.7  383.23   8.94  21.4  \n",
      "477     20.2  349.48  24.91  12.0  \n",
      "15      21.0  395.62   8.47  19.9  \n",
      "332     16.9  362.25   7.83  19.4  \n",
      "423     20.2    2.52  23.29  13.4  \n",
      "19      21.0  390.95  11.28  18.2  \n",
      "325     19.6  393.68   5.08  24.6  \n",
      "335     20.2  396.90   8.01  21.1  \n",
      "56      17.3  396.90   5.77  24.7  \n",
      "437     20.2    9.32  26.45   8.7  \n",
      "409     20.2  179.36  19.78  27.5  \n",
      "334     20.2  389.40   6.75  20.7  \n",
      "181     17.8  396.90   9.45  36.2  \n",
      "227     17.4  372.08   6.36  31.6  \n",
      "434     20.2  100.63  15.17  11.7  \n",
      "180     17.8  395.56   7.56  39.8  \n",
      "25      21.0  303.42  16.51  13.9  \n",
      "493     19.2  396.90  12.01  21.8  \n",
      "238     16.6  379.41   6.36  23.7  \n",
      "244     19.1  372.49  12.50  17.6  \n",
      "250     19.1  396.28   5.90  24.4  \n",
      "418     20.2   16.45  20.62   8.8  \n",
      "117     17.8  394.51  10.30  19.2  \n",
      "42      17.9  383.37   5.81  25.3  \n",
      "322     19.6  396.90   7.70  20.4  \n",
      "347     17.9  392.43   6.36  23.1  \n",
      "182     17.8  394.12   4.82  37.9  \n",
      "155     14.7   88.01  15.02  15.6  \n",
      "280     14.9  387.31   3.76  45.4  \n",
      "126     19.1  359.29  27.26  15.7  \n",
      "..       ...     ...    ...   ...  \n",
      "276     17.6  389.25   6.05  33.2  \n",
      "443     20.2  386.73  18.85  15.4  \n",
      "191     15.2  389.71   4.69  30.5  \n",
      "385     20.2  396.90  30.81   7.2  \n",
      "293     16.0  396.90   8.58  23.9  \n",
      "413     20.2  210.97  20.08  16.3  \n",
      "343     17.6  396.90   7.18  23.9  \n",
      "257     13.0  389.70   5.12  50.0  \n",
      "308     18.4  396.90   4.54  22.8  \n",
      "149     14.7  351.85  21.45  15.4  \n",
      "130     21.2  395.04  12.60  19.2  \n",
      "151     14.7  341.60  13.28  19.6  \n",
      "359     20.2  390.74  12.67  22.6  \n",
      "99      18.0  396.90   6.19  33.2  \n",
      "372     20.2  347.88   8.88  50.0  \n",
      "87      18.5  395.15   8.44  22.2  \n",
      "458     20.2  272.21  16.23  14.9  \n",
      "330     16.9  368.57   9.09  19.8  \n",
      "214     18.6  348.93  29.55  23.7  \n",
      "466     20.2   22.01  17.15  19.0  \n",
      "121     19.1  377.67  14.27  20.3  \n",
      "505     21.0  396.90   7.88  11.9  \n",
      "20      21.0  376.57  21.02  13.6  \n",
      "188     15.2  382.84   4.56  29.8  \n",
      "71      19.2  376.94   9.88  21.7  \n",
      "106     20.9  395.67  18.66  19.5  \n",
      "270     18.6  388.65  13.00  21.1  \n",
      "348     17.0  390.94   5.99  24.5  \n",
      "435     20.2  109.85  23.27  13.4  \n",
      "102     20.9   70.80  10.63  18.6  \n",
      "\n",
      "[405 rows x 14 columns]\n",
      "         CRIM    ZN  INDUS  CHAS     NOX     RM    AGE      DIS  RAD    TAX  \\\n",
      "173   0.09178   0.0   4.05     0  0.5100  6.416   84.1   2.6463    5  296.0   \n",
      "274   0.05644  40.0   6.41     1  0.4470  6.758   32.9   4.0776    4  254.0   \n",
      "491   0.10574   0.0  27.74     0  0.6090  5.983   98.8   1.8681    4  711.0   \n",
      "72    0.09164   0.0  10.81     0  0.4130  6.065    7.8   5.2873    4  305.0   \n",
      "452   5.09017   0.0  18.10     0  0.7130  6.297   91.8   2.3682   24  666.0   \n",
      "76    0.10153   0.0  12.83     0  0.4370  6.279   74.5   4.0522    5  398.0   \n",
      "316   0.31827   0.0   9.90     0  0.5440  5.914   83.2   3.9986    4  304.0   \n",
      "140   0.29090   0.0  21.89     0  0.6240  6.174   93.6   1.6119    4  437.0   \n",
      "471   4.03841   0.0  18.10     0  0.5320  6.229   90.7   3.0993   24  666.0   \n",
      "500   0.22438   0.0   9.69     0  0.5850  6.027   79.7   2.4982    6  391.0   \n",
      "218   0.11069   0.0  13.89     1  0.5500  5.951   93.8   2.8893    5  276.0   \n",
      "9     0.17004  12.5   7.87     0  0.5240  6.004   85.9   6.5921    5  311.0   \n",
      "414  45.74610   0.0  18.10     0  0.6930  4.519  100.0   1.6582   24  666.0   \n",
      "78    0.05646   0.0  12.83     0  0.4370  6.232   53.7   5.0141    5  398.0   \n",
      "323   0.28392   0.0   7.38     0  0.4930  5.708   74.3   4.7211    5  287.0   \n",
      "473   4.64689   0.0  18.10     0  0.6140  6.980   67.6   2.5329   24  666.0   \n",
      "124   0.09849   0.0  25.65     0  0.5810  5.879   95.8   2.0063    2  188.0   \n",
      "388  14.33370   0.0  18.10     0  0.7000  4.880  100.0   1.5895   24  666.0   \n",
      "195   0.01381  80.0   0.46     0  0.4220  7.875   32.0   5.6484    4  255.0   \n",
      "448   9.32909   0.0  18.10     0  0.7130  6.185   98.7   2.2616   24  666.0   \n",
      "271   0.16211  20.0   6.96     0  0.4640  6.240   16.3   4.4290    3  223.0   \n",
      "278   0.07978  40.0   6.41     0  0.4470  6.482   32.1   4.1403    4  254.0   \n",
      "30    1.13081   0.0   8.14     0  0.5380  5.713   94.1   4.2330    4  307.0   \n",
      "501   0.06263   0.0  11.93     0  0.5730  6.593   69.1   2.4786    1  273.0   \n",
      "421   7.02259   0.0  18.10     0  0.7180  6.006   95.3   1.8746   24  666.0   \n",
      "474   8.05579   0.0  18.10     0  0.5840  5.427   95.4   2.4298   24  666.0   \n",
      "79    0.08387   0.0  12.83     0  0.4370  5.874   36.6   4.5026    5  398.0   \n",
      "454   9.51363   0.0  18.10     0  0.7130  6.728   94.1   2.4961   24  666.0   \n",
      "210   0.17446   0.0  10.59     1  0.4890  5.960   92.1   3.8771    4  277.0   \n",
      "497   0.26838   0.0   9.69     0  0.5850  5.794   70.6   2.8927    6  391.0   \n",
      "..        ...   ...    ...   ...     ...    ...    ...      ...  ...    ...   \n",
      "481   5.70818   0.0  18.10     0  0.5320  6.750   74.9   3.3317   24  666.0   \n",
      "444  12.80230   0.0  18.10     0  0.7400  5.854   96.6   1.8956   24  666.0   \n",
      "355   0.10659  80.0   1.91     0  0.4130  5.936   19.5  10.5857    4  334.0   \n",
      "77    0.08707   0.0  12.83     0  0.4370  6.140   45.8   4.0905    5  398.0   \n",
      "398  38.35180   0.0  18.10     0  0.6930  5.453  100.0   1.4896   24  666.0   \n",
      "104   0.13960   0.0   8.56     0  0.5200  6.167   90.0   2.4210    5  384.0   \n",
      "203   0.03510  95.0   2.68     0  0.4161  7.853   33.2   5.1180    4  224.0   \n",
      "381  15.87440   0.0  18.10     0  0.6710  6.545   99.1   1.5192   24  666.0   \n",
      "489   0.18337   0.0  27.74     0  0.6090  5.414   98.3   1.7554    4  711.0   \n",
      "69    0.12816  12.5   6.07     0  0.4090  5.885   33.0   6.4980    4  345.0   \n",
      "408   7.40389   0.0  18.10     0  0.5970  5.617   97.9   1.4547   24  666.0   \n",
      "255   0.03548  80.0   3.64     0  0.3920  5.876   19.1   9.2203    1  315.0   \n",
      "392  11.57790   0.0  18.10     0  0.7000  5.036   97.0   1.7700   24  666.0   \n",
      "312   0.26169   0.0   9.90     0  0.5440  6.023   90.4   2.8340    4  304.0   \n",
      "234   0.44791   0.0   6.20     1  0.5070  6.726   66.5   3.6519    8  307.0   \n",
      "460   4.81213   0.0  18.10     0  0.7130  6.701   90.0   2.5975   24  666.0   \n",
      "324   0.34109   0.0   7.38     0  0.4930  6.415   40.1   4.7211    5  287.0   \n",
      "93    0.02875  28.0  15.04     0  0.4640  6.211   28.9   3.6659    4  270.0   \n",
      "137   0.35233   0.0  21.89     0  0.6240  6.454   98.4   1.8498    4  437.0   \n",
      "176   0.07022   0.0   4.05     0  0.5100  6.020   47.2   3.5549    5  296.0   \n",
      "417  25.94060   0.0  18.10     0  0.6790  5.304   89.1   1.6475   24  666.0   \n",
      "131   1.19294   0.0  21.89     0  0.6240  6.326   97.7   2.2710    4  437.0   \n",
      "346   0.06162   0.0   4.39     0  0.4420  5.898   52.3   8.0136    3  352.0   \n",
      "365   4.55587   0.0  18.10     0  0.7180  3.561   87.9   1.6132   24  666.0   \n",
      "132   0.59005   0.0  21.89     0  0.6240  6.372   97.9   2.3274    4  437.0   \n",
      "371   9.23230   0.0  18.10     0  0.6310  6.216  100.0   1.1691   24  666.0   \n",
      "412  18.81100   0.0  18.10     0  0.5970  4.628  100.0   1.5539   24  666.0   \n",
      "436  14.42080   0.0  18.10     0  0.7400  6.461   93.3   2.0026   24  666.0   \n",
      "411  14.05070   0.0  18.10     0  0.5970  6.657  100.0   1.5275   24  666.0   \n",
      "86    0.05188   0.0   4.49     0  0.4490  6.015   45.1   4.4272    3  247.0   \n",
      "\n",
      "     PTRATIO       B  LSTAT  MEDV  \n",
      "173     16.6  395.50   9.04  23.6  \n",
      "274     17.6  396.90   3.53  32.4  \n",
      "491     20.1  390.11  18.07  13.6  \n",
      "72      19.2  390.91   5.52  22.8  \n",
      "452     20.2  385.09  17.27  16.1  \n",
      "76      18.7  373.66  11.97  20.0  \n",
      "316     18.4  390.70  18.33  17.8  \n",
      "140     21.2  388.08  24.16  14.0  \n",
      "471     20.2  395.33  12.87  19.6  \n",
      "500     19.2  396.90  14.33  16.8  \n",
      "218     16.4  396.90  17.92  21.5  \n",
      "9       15.2  386.71  17.10  18.9  \n",
      "414     20.2   88.27  36.98   7.0  \n",
      "78      18.7  386.40  12.34  21.2  \n",
      "323     19.6  391.13  11.74  18.5  \n",
      "473     20.2  374.68  11.66  29.8  \n",
      "124     19.1  379.38  17.58  18.8  \n",
      "388     20.2  372.92  30.62  10.2  \n",
      "195     14.4  394.23   2.97  50.0  \n",
      "448     20.2  396.90  18.13  14.1  \n",
      "271     18.6  396.90   6.59  25.2  \n",
      "278     17.6  396.90   7.19  29.1  \n",
      "30      21.0  360.17  22.60  12.7  \n",
      "501     21.0  391.99   9.67  22.4  \n",
      "421     20.2  319.98  15.70  14.2  \n",
      "474     20.2  352.58  18.14  13.8  \n",
      "79      18.7  396.06   9.10  20.3  \n",
      "454     20.2    6.68  18.71  14.9  \n",
      "210     18.6  393.25  17.27  21.7  \n",
      "497     19.2  396.90  14.10  18.3  \n",
      "..       ...     ...    ...   ...  \n",
      "481     20.2  393.07   7.74  23.7  \n",
      "444     20.2  240.52  23.79  10.8  \n",
      "355     22.0  376.04   5.57  20.6  \n",
      "77      18.7  386.96  10.27  20.8  \n",
      "398     20.2  396.90  30.59   5.0  \n",
      "104     20.9  392.69  12.33  20.1  \n",
      "203     14.7  392.78   3.81  48.5  \n",
      "381     20.2  396.90  21.08  10.9  \n",
      "489     20.1  344.05  23.97   7.0  \n",
      "69      18.9  396.90   8.79  20.9  \n",
      "408     20.2  314.64  26.40  17.2  \n",
      "255     16.4  395.18   9.25  20.9  \n",
      "392     20.2  396.90  25.68   9.7  \n",
      "312     18.4  396.30  11.72  19.4  \n",
      "234     17.4  360.20   8.05  29.0  \n",
      "460     20.2  255.23  16.42  16.4  \n",
      "324     19.6  396.90   6.12  25.0  \n",
      "93      18.2  396.33   6.21  25.0  \n",
      "137     21.2  394.08  14.59  17.1  \n",
      "176     16.6  393.23  10.11  23.2  \n",
      "417     20.2  127.36  26.64  10.4  \n",
      "131     21.2  396.90  12.26  19.6  \n",
      "346     18.8  364.61  12.67  17.2  \n",
      "365     20.2  354.70   7.12  27.5  \n",
      "132     21.2  385.76  11.12  23.0  \n",
      "371     20.2  366.15   9.53  50.0  \n",
      "412     20.2   28.79  34.37  17.9  \n",
      "436     20.2   27.49  18.05   9.6  \n",
      "411     20.2   35.05  21.22  17.2  \n",
      "86      18.5  395.99  12.86  22.5  \n",
      "\n",
      "[101 rows x 14 columns]\n"
     ]
    }
   ],
   "source": [
    "print (train_set)\n",
    "print (test_set)"
   ]
  },
  {
   "cell_type": "code",
   "execution_count": 17,
   "id": "9f6709e6",
   "metadata": {},
   "outputs": [
    {
     "name": "stdout",
     "output_type": "stream",
     "text": [
      "         CRIM    ZN  INDUS  CHAS     NOX     RM    AGE     DIS  RAD    TAX  \\\n",
      "477  15.02340   0.0  18.10     0  0.6140  5.304   97.3  2.1007   24  666.0   \n",
      "15    0.62739   0.0   8.14     0  0.5380  5.834   56.5  4.4986    4  307.0   \n",
      "332   0.03466  35.0   6.06     0  0.4379  6.031   23.3  6.6407    1  304.0   \n",
      "423   7.05042   0.0  18.10     0  0.6140  6.103   85.1  2.0218   24  666.0   \n",
      "19    0.72580   0.0   8.14     0  0.5380  5.727   69.5  3.7965    4  307.0   \n",
      "325   0.19186   0.0   7.38     0  0.4930  6.431   14.7  5.4159    5  287.0   \n",
      "335   0.03961   0.0   5.19     0  0.5150  6.037   34.5  5.9853    5  224.0   \n",
      "56    0.02055  85.0   0.74     0  0.4100  6.383   35.7  9.1876    2  313.0   \n",
      "437  15.17720   0.0  18.10     0  0.7400  6.152  100.0  1.9142   24  666.0   \n",
      "409  14.43830   0.0  18.10     0  0.5970  6.852  100.0  1.4655   24  666.0   \n",
      "334   0.03738   0.0   5.19     0  0.5150  6.310   38.5  6.4584    5  224.0   \n",
      "181   0.06888   0.0   2.46     0  0.4880  6.144   62.2  2.5979    3  193.0   \n",
      "227   0.41238   0.0   6.20     0  0.5040  7.163   79.9  3.2157    8  307.0   \n",
      "434  13.91340   0.0  18.10     0  0.7130  6.208   95.0  2.2222   24  666.0   \n",
      "180   0.06588   0.0   2.46     0  0.4880  7.765   83.3  2.7410    3  193.0   \n",
      "25    0.84054   0.0   8.14     0  0.5380  5.599   85.7  4.4546    4  307.0   \n",
      "493   0.17331   0.0   9.69     0  0.5850  5.707   54.0  2.3817    6  391.0   \n",
      "238   0.08244  30.0   4.93     0  0.4280  6.481   18.5  6.1899    6  300.0   \n",
      "244   0.20608  22.0   5.86     0  0.4310  5.593   76.5  7.9549    7  330.0   \n",
      "250   0.14030  22.0   5.86     0  0.4310  6.487   13.0  7.3967    7  330.0   \n",
      "418  73.53410   0.0  18.10     0  0.6790  5.957  100.0  1.8026   24  666.0   \n",
      "117   0.15098   0.0  10.01     0  0.5470  6.021   82.6  2.7474    6  432.0   \n",
      "42    0.14150   0.0   6.91     0  0.4480  6.169    6.6  5.7209    3  233.0   \n",
      "322   0.35114   0.0   7.38     0  0.4930  6.041   49.9  4.7211    5  287.0   \n",
      "347   0.01870  85.0   4.15     0  0.4290  6.516   27.7  8.5353    4  351.0   \n",
      "182   0.09103   0.0   2.46     0  0.4880  7.155   92.2  2.7006    3  193.0   \n",
      "155   3.53501   0.0  19.58     1  0.8710  6.152   82.6  1.7455    5  403.0   \n",
      "280   0.03578  20.0   3.33     0  0.4429  7.820   64.5  4.6947    5  216.0   \n",
      "126   0.38735   0.0  25.65     0  0.5810  5.613   95.6  1.7572    2  188.0   \n",
      "329   0.06724   0.0   3.24     0  0.4600  6.333   17.2  5.2146    4  430.0   \n",
      "..        ...   ...    ...   ...     ...    ...    ...     ...  ...    ...   \n",
      "276   0.10469  40.0   6.41     1  0.4470  7.267   49.0  4.7872    4  254.0   \n",
      "443   9.96654   0.0  18.10     0  0.7400  6.485  100.0  1.9784   24  666.0   \n",
      "191   0.06911  45.0   3.44     0  0.4370  6.739   30.8  6.4798    5  398.0   \n",
      "385  16.81180   0.0  18.10     0  0.7000  5.277   98.1  1.4261   24  666.0   \n",
      "293   0.08265   0.0  13.92     0  0.4370  6.127   18.4  5.5027    4  289.0   \n",
      "413  28.65580   0.0  18.10     0  0.5970  5.155  100.0  1.5894   24  666.0   \n",
      "343   0.02543  55.0   3.78     0  0.4840  6.696   56.4  5.7321    5  370.0   \n",
      "257   0.61154  20.0   3.97     0  0.6470  8.704   86.9  1.8010    5  264.0   \n",
      "308   0.49298   0.0   9.90     0  0.5440  6.635   82.5  3.3175    4  304.0   \n",
      "149   2.73397   0.0  19.58     0  0.8710  5.597   94.9  1.5257    5  403.0   \n",
      "130   0.34006   0.0  21.89     0  0.6240  6.458   98.9  2.1185    4  437.0   \n",
      "151   1.49632   0.0  19.58     0  0.8710  5.404  100.0  1.5916    5  403.0   \n",
      "359   4.26131   0.0  18.10     0  0.7700  6.112   81.3  2.5091   24  666.0   \n",
      "99    0.06860   0.0   2.89     0  0.4450  7.416   62.5  3.4952    2  276.0   \n",
      "372   8.26725   0.0  18.10     1  0.6680  5.875   89.6  1.1296   24  666.0   \n",
      "87    0.07151   0.0   4.49     0  0.4490  6.121   56.8  3.7476    3  247.0   \n",
      "458   7.75223   0.0  18.10     0  0.7130  6.301   83.7  2.7831   24  666.0   \n",
      "330   0.04544   0.0   3.24     0  0.4600  6.144   32.2  5.8736    4  430.0   \n",
      "214   0.28955   0.0  10.59     0  0.4890  5.412    9.8  3.5875    4  277.0   \n",
      "466   3.77498   0.0  18.10     0  0.6550  5.952   84.7  2.8715   24  666.0   \n",
      "121   0.07165   0.0  25.65     0  0.5810  6.004   84.1  2.1974    2  188.0   \n",
      "505   0.04741   0.0  11.93     0  0.5730  6.030   80.8  2.5050    1  273.0   \n",
      "20    1.25179   0.0   8.14     0  0.5380  5.570   98.1  3.7979    4  307.0   \n",
      "188   0.12579  45.0   3.44     0  0.4370  6.556   29.1  4.5667    5  398.0   \n",
      "71    0.15876   0.0  10.81     0  0.4130  5.961   17.5  5.2873    4  305.0   \n",
      "106   0.17120   0.0   8.56     0  0.5200  5.836   91.9  2.2110    5  384.0   \n",
      "270   0.29916  20.0   6.96     0  0.4640  5.856   42.1  4.4290    3  223.0   \n",
      "348   0.01501  80.0   2.01     0  0.4350  6.635   29.7  8.3440    4  280.0   \n",
      "435  11.16040   0.0  18.10     0  0.7400  6.629   94.6  2.1247   24  666.0   \n",
      "102   0.22876   0.0   8.56     0  0.5200  6.405   85.4  2.7147    5  384.0   \n",
      "\n",
      "     PTRATIO       B  LSTAT  MEDV  \n",
      "477     20.2  349.48  24.91  12.0  \n",
      "15      21.0  395.62   8.47  19.9  \n",
      "332     16.9  362.25   7.83  19.4  \n",
      "423     20.2    2.52  23.29  13.4  \n",
      "19      21.0  390.95  11.28  18.2  \n",
      "325     19.6  393.68   5.08  24.6  \n",
      "335     20.2  396.90   8.01  21.1  \n",
      "56      17.3  396.90   5.77  24.7  \n",
      "437     20.2    9.32  26.45   8.7  \n",
      "409     20.2  179.36  19.78  27.5  \n",
      "334     20.2  389.40   6.75  20.7  \n",
      "181     17.8  396.90   9.45  36.2  \n",
      "227     17.4  372.08   6.36  31.6  \n",
      "434     20.2  100.63  15.17  11.7  \n",
      "180     17.8  395.56   7.56  39.8  \n",
      "25      21.0  303.42  16.51  13.9  \n",
      "493     19.2  396.90  12.01  21.8  \n",
      "238     16.6  379.41   6.36  23.7  \n",
      "244     19.1  372.49  12.50  17.6  \n",
      "250     19.1  396.28   5.90  24.4  \n",
      "418     20.2   16.45  20.62   8.8  \n",
      "117     17.8  394.51  10.30  19.2  \n",
      "42      17.9  383.37   5.81  25.3  \n",
      "322     19.6  396.90   7.70  20.4  \n",
      "347     17.9  392.43   6.36  23.1  \n",
      "182     17.8  394.12   4.82  37.9  \n",
      "155     14.7   88.01  15.02  15.6  \n",
      "280     14.9  387.31   3.76  45.4  \n",
      "126     19.1  359.29  27.26  15.7  \n",
      "329     16.9  375.21   7.34  22.6  \n",
      "..       ...     ...    ...   ...  \n",
      "276     17.6  389.25   6.05  33.2  \n",
      "443     20.2  386.73  18.85  15.4  \n",
      "191     15.2  389.71   4.69  30.5  \n",
      "385     20.2  396.90  30.81   7.2  \n",
      "293     16.0  396.90   8.58  23.9  \n",
      "413     20.2  210.97  20.08  16.3  \n",
      "343     17.6  396.90   7.18  23.9  \n",
      "257     13.0  389.70   5.12  50.0  \n",
      "308     18.4  396.90   4.54  22.8  \n",
      "149     14.7  351.85  21.45  15.4  \n",
      "130     21.2  395.04  12.60  19.2  \n",
      "151     14.7  341.60  13.28  19.6  \n",
      "359     20.2  390.74  12.67  22.6  \n",
      "99      18.0  396.90   6.19  33.2  \n",
      "372     20.2  347.88   8.88  50.0  \n",
      "87      18.5  395.15   8.44  22.2  \n",
      "458     20.2  272.21  16.23  14.9  \n",
      "330     16.9  368.57   9.09  19.8  \n",
      "214     18.6  348.93  29.55  23.7  \n",
      "466     20.2   22.01  17.15  19.0  \n",
      "121     19.1  377.67  14.27  20.3  \n",
      "505     21.0  396.90   7.88  11.9  \n",
      "20      21.0  376.57  21.02  13.6  \n",
      "188     15.2  382.84   4.56  29.8  \n",
      "71      19.2  376.94   9.88  21.7  \n",
      "106     20.9  395.67  18.66  19.5  \n",
      "270     18.6  388.65  13.00  21.1  \n",
      "348     17.0  390.94   5.99  24.5  \n",
      "435     20.2  109.85  23.27  13.4  \n",
      "102     20.9   70.80  10.63  18.6  \n",
      "\n",
      "[404 rows x 14 columns]\n",
      "         CRIM    ZN  INDUS  CHAS     NOX     RM    AGE      DIS  RAD    TAX  \\\n",
      "173   0.09178   0.0   4.05     0  0.5100  6.416   84.1   2.6463    5  296.0   \n",
      "274   0.05644  40.0   6.41     1  0.4470  6.758   32.9   4.0776    4  254.0   \n",
      "491   0.10574   0.0  27.74     0  0.6090  5.983   98.8   1.8681    4  711.0   \n",
      "72    0.09164   0.0  10.81     0  0.4130  6.065    7.8   5.2873    4  305.0   \n",
      "452   5.09017   0.0  18.10     0  0.7130  6.297   91.8   2.3682   24  666.0   \n",
      "76    0.10153   0.0  12.83     0  0.4370  6.279   74.5   4.0522    5  398.0   \n",
      "316   0.31827   0.0   9.90     0  0.5440  5.914   83.2   3.9986    4  304.0   \n",
      "140   0.29090   0.0  21.89     0  0.6240  6.174   93.6   1.6119    4  437.0   \n",
      "471   4.03841   0.0  18.10     0  0.5320  6.229   90.7   3.0993   24  666.0   \n",
      "500   0.22438   0.0   9.69     0  0.5850  6.027   79.7   2.4982    6  391.0   \n",
      "218   0.11069   0.0  13.89     1  0.5500  5.951   93.8   2.8893    5  276.0   \n",
      "9     0.17004  12.5   7.87     0  0.5240  6.004   85.9   6.5921    5  311.0   \n",
      "414  45.74610   0.0  18.10     0  0.6930  4.519  100.0   1.6582   24  666.0   \n",
      "78    0.05646   0.0  12.83     0  0.4370  6.232   53.7   5.0141    5  398.0   \n",
      "323   0.28392   0.0   7.38     0  0.4930  5.708   74.3   4.7211    5  287.0   \n",
      "473   4.64689   0.0  18.10     0  0.6140  6.980   67.6   2.5329   24  666.0   \n",
      "124   0.09849   0.0  25.65     0  0.5810  5.879   95.8   2.0063    2  188.0   \n",
      "388  14.33370   0.0  18.10     0  0.7000  4.880  100.0   1.5895   24  666.0   \n",
      "195   0.01381  80.0   0.46     0  0.4220  7.875   32.0   5.6484    4  255.0   \n",
      "448   9.32909   0.0  18.10     0  0.7130  6.185   98.7   2.2616   24  666.0   \n",
      "271   0.16211  20.0   6.96     0  0.4640  6.240   16.3   4.4290    3  223.0   \n",
      "278   0.07978  40.0   6.41     0  0.4470  6.482   32.1   4.1403    4  254.0   \n",
      "30    1.13081   0.0   8.14     0  0.5380  5.713   94.1   4.2330    4  307.0   \n",
      "501   0.06263   0.0  11.93     0  0.5730  6.593   69.1   2.4786    1  273.0   \n",
      "421   7.02259   0.0  18.10     0  0.7180  6.006   95.3   1.8746   24  666.0   \n",
      "474   8.05579   0.0  18.10     0  0.5840  5.427   95.4   2.4298   24  666.0   \n",
      "79    0.08387   0.0  12.83     0  0.4370  5.874   36.6   4.5026    5  398.0   \n",
      "454   9.51363   0.0  18.10     0  0.7130  6.728   94.1   2.4961   24  666.0   \n",
      "210   0.17446   0.0  10.59     1  0.4890  5.960   92.1   3.8771    4  277.0   \n",
      "497   0.26838   0.0   9.69     0  0.5850  5.794   70.6   2.8927    6  391.0   \n",
      "..        ...   ...    ...   ...     ...    ...    ...      ...  ...    ...   \n",
      "444  12.80230   0.0  18.10     0  0.7400  5.854   96.6   1.8956   24  666.0   \n",
      "355   0.10659  80.0   1.91     0  0.4130  5.936   19.5  10.5857    4  334.0   \n",
      "77    0.08707   0.0  12.83     0  0.4370  6.140   45.8   4.0905    5  398.0   \n",
      "398  38.35180   0.0  18.10     0  0.6930  5.453  100.0   1.4896   24  666.0   \n",
      "104   0.13960   0.0   8.56     0  0.5200  6.167   90.0   2.4210    5  384.0   \n",
      "203   0.03510  95.0   2.68     0  0.4161  7.853   33.2   5.1180    4  224.0   \n",
      "381  15.87440   0.0  18.10     0  0.6710  6.545   99.1   1.5192   24  666.0   \n",
      "489   0.18337   0.0  27.74     0  0.6090  5.414   98.3   1.7554    4  711.0   \n",
      "69    0.12816  12.5   6.07     0  0.4090  5.885   33.0   6.4980    4  345.0   \n",
      "408   7.40389   0.0  18.10     0  0.5970  5.617   97.9   1.4547   24  666.0   \n",
      "255   0.03548  80.0   3.64     0  0.3920  5.876   19.1   9.2203    1  315.0   \n",
      "392  11.57790   0.0  18.10     0  0.7000  5.036   97.0   1.7700   24  666.0   \n",
      "312   0.26169   0.0   9.90     0  0.5440  6.023   90.4   2.8340    4  304.0   \n",
      "234   0.44791   0.0   6.20     1  0.5070  6.726   66.5   3.6519    8  307.0   \n",
      "460   4.81213   0.0  18.10     0  0.7130  6.701   90.0   2.5975   24  666.0   \n",
      "324   0.34109   0.0   7.38     0  0.4930  6.415   40.1   4.7211    5  287.0   \n",
      "93    0.02875  28.0  15.04     0  0.4640  6.211   28.9   3.6659    4  270.0   \n",
      "137   0.35233   0.0  21.89     0  0.6240  6.454   98.4   1.8498    4  437.0   \n",
      "176   0.07022   0.0   4.05     0  0.5100  6.020   47.2   3.5549    5  296.0   \n",
      "417  25.94060   0.0  18.10     0  0.6790  5.304   89.1   1.6475   24  666.0   \n",
      "131   1.19294   0.0  21.89     0  0.6240  6.326   97.7   2.2710    4  437.0   \n",
      "346   0.06162   0.0   4.39     0  0.4420  5.898   52.3   8.0136    3  352.0   \n",
      "365   4.55587   0.0  18.10     0  0.7180  3.561   87.9   1.6132   24  666.0   \n",
      "132   0.59005   0.0  21.89     0  0.6240  6.372   97.9   2.3274    4  437.0   \n",
      "371   9.23230   0.0  18.10     0  0.6310  6.216  100.0   1.1691   24  666.0   \n",
      "412  18.81100   0.0  18.10     0  0.5970  4.628  100.0   1.5539   24  666.0   \n",
      "436  14.42080   0.0  18.10     0  0.7400  6.461   93.3   2.0026   24  666.0   \n",
      "411  14.05070   0.0  18.10     0  0.5970  6.657  100.0   1.5275   24  666.0   \n",
      "86    0.05188   0.0   4.49     0  0.4490  6.015   45.1   4.4272    3  247.0   \n",
      "75    0.09512   0.0  12.83     0  0.4370  6.286   45.0   4.5026    5  398.0   \n",
      "\n",
      "     PTRATIO       B  LSTAT  MEDV  \n",
      "173     16.6  395.50   9.04  23.6  \n",
      "274     17.6  396.90   3.53  32.4  \n",
      "491     20.1  390.11  18.07  13.6  \n",
      "72      19.2  390.91   5.52  22.8  \n",
      "452     20.2  385.09  17.27  16.1  \n",
      "76      18.7  373.66  11.97  20.0  \n",
      "316     18.4  390.70  18.33  17.8  \n",
      "140     21.2  388.08  24.16  14.0  \n",
      "471     20.2  395.33  12.87  19.6  \n",
      "500     19.2  396.90  14.33  16.8  \n",
      "218     16.4  396.90  17.92  21.5  \n",
      "9       15.2  386.71  17.10  18.9  \n",
      "414     20.2   88.27  36.98   7.0  \n",
      "78      18.7  386.40  12.34  21.2  \n",
      "323     19.6  391.13  11.74  18.5  \n",
      "473     20.2  374.68  11.66  29.8  \n",
      "124     19.1  379.38  17.58  18.8  \n",
      "388     20.2  372.92  30.62  10.2  \n",
      "195     14.4  394.23   2.97  50.0  \n",
      "448     20.2  396.90  18.13  14.1  \n",
      "271     18.6  396.90   6.59  25.2  \n",
      "278     17.6  396.90   7.19  29.1  \n",
      "30      21.0  360.17  22.60  12.7  \n",
      "501     21.0  391.99   9.67  22.4  \n",
      "421     20.2  319.98  15.70  14.2  \n",
      "474     20.2  352.58  18.14  13.8  \n",
      "79      18.7  396.06   9.10  20.3  \n",
      "454     20.2    6.68  18.71  14.9  \n",
      "210     18.6  393.25  17.27  21.7  \n",
      "497     19.2  396.90  14.10  18.3  \n",
      "..       ...     ...    ...   ...  \n",
      "444     20.2  240.52  23.79  10.8  \n",
      "355     22.0  376.04   5.57  20.6  \n",
      "77      18.7  386.96  10.27  20.8  \n",
      "398     20.2  396.90  30.59   5.0  \n",
      "104     20.9  392.69  12.33  20.1  \n",
      "203     14.7  392.78   3.81  48.5  \n",
      "381     20.2  396.90  21.08  10.9  \n",
      "489     20.1  344.05  23.97   7.0  \n",
      "69      18.9  396.90   8.79  20.9  \n",
      "408     20.2  314.64  26.40  17.2  \n",
      "255     16.4  395.18   9.25  20.9  \n",
      "392     20.2  396.90  25.68   9.7  \n",
      "312     18.4  396.30  11.72  19.4  \n",
      "234     17.4  360.20   8.05  29.0  \n",
      "460     20.2  255.23  16.42  16.4  \n",
      "324     19.6  396.90   6.12  25.0  \n",
      "93      18.2  396.33   6.21  25.0  \n",
      "137     21.2  394.08  14.59  17.1  \n",
      "176     16.6  393.23  10.11  23.2  \n",
      "417     20.2  127.36  26.64  10.4  \n",
      "131     21.2  396.90  12.26  19.6  \n",
      "346     18.8  364.61  12.67  17.2  \n",
      "365     20.2  354.70   7.12  27.5  \n",
      "132     21.2  385.76  11.12  23.0  \n",
      "371     20.2  366.15   9.53  50.0  \n",
      "412     20.2   28.79  34.37  17.9  \n",
      "436     20.2   27.49  18.05   9.6  \n",
      "411     20.2   35.05  21.22  17.2  \n",
      "86      18.5  395.99  12.86  22.5  \n",
      "75      18.7  383.23   8.94  21.4  \n",
      "\n",
      "[102 rows x 14 columns]\n"
     ]
    }
   ],
   "source": [
    "from sklearn.model_selection import train_test_split\n",
    "train_set,test_set=train_test_split(house_data,test_size=0.2,random_state=42)\n",
    "\n",
    "print (train_set)\n",
    "print (test_set)"
   ]
  },
  {
   "cell_type": "code",
   "execution_count": 18,
   "id": "5f5e54bd",
   "metadata": {},
   "outputs": [
    {
     "name": "stdout",
     "output_type": "stream",
     "text": [
      "404 102\n"
     ]
    }
   ],
   "source": [
    "print(len(train_set),len(test_set))"
   ]
  },
  {
   "cell_type": "code",
   "execution_count": 19,
   "id": "9425b1fc",
   "metadata": {},
   "outputs": [],
   "source": [
    "from sklearn.model_selection import StratifiedShuffleSplit\n",
    "split=StratifiedShuffleSplit(n_splits=1,test_size=0.2,random_state=42)\n",
    "for train_index,test_index in split.split(house_data,house_data['CHAS']):\n",
    "    strat_train=house_data.loc[train_index]\n",
    "    strat_test=house_data.loc[test_index]"
   ]
  },
  {
   "cell_type": "code",
   "execution_count": 20,
   "id": "97c48927",
   "metadata": {},
   "outputs": [
    {
     "data": {
      "text/plain": [
       "(404, 14)"
      ]
     },
     "execution_count": 20,
     "metadata": {},
     "output_type": "execute_result"
    }
   ],
   "source": [
    "strat_train.shape"
   ]
  },
  {
   "cell_type": "code",
   "execution_count": 21,
   "id": "327caeb4",
   "metadata": {},
   "outputs": [
    {
     "data": {
      "text/plain": [
       "0    95\n",
       "1     7\n",
       "Name: CHAS, dtype: int64"
      ]
     },
     "execution_count": 21,
     "metadata": {},
     "output_type": "execute_result"
    }
   ],
   "source": [
    "strat_test['CHAS'].value_counts()"
   ]
  },
  {
   "cell_type": "code",
   "execution_count": 22,
   "id": "2674296c",
   "metadata": {},
   "outputs": [
    {
     "data": {
      "text/plain": [
       "0    376\n",
       "1     28\n",
       "Name: CHAS, dtype: int64"
      ]
     },
     "execution_count": 22,
     "metadata": {},
     "output_type": "execute_result"
    }
   ],
   "source": [
    "strat_train['CHAS'].value_counts()"
   ]
  },
  {
   "cell_type": "code",
   "execution_count": 23,
   "id": "0fa13ff7",
   "metadata": {},
   "outputs": [],
   "source": [
    "#correlation\n",
    "\n",
    "correlation_matrix=house_data.corr()"
   ]
  },
  {
   "cell_type": "code",
   "execution_count": 24,
   "id": "288dc11c",
   "metadata": {},
   "outputs": [
    {
     "data": {
      "text/plain": [
       "MEDV       1.000000\n",
       "RM         0.695360\n",
       "ZN         0.360445\n",
       "B          0.333461\n",
       "DIS        0.249929\n",
       "CHAS       0.175260\n",
       "AGE       -0.376955\n",
       "RAD       -0.381626\n",
       "CRIM      -0.388305\n",
       "NOX       -0.427321\n",
       "TAX       -0.468536\n",
       "INDUS     -0.483725\n",
       "PTRATIO   -0.507787\n",
       "LSTAT     -0.737663\n",
       "Name: MEDV, dtype: float64"
      ]
     },
     "execution_count": 24,
     "metadata": {},
     "output_type": "execute_result"
    }
   ],
   "source": [
    "correlation_matrix['MEDV'].sort_values(ascending=False)"
   ]
  },
  {
   "cell_type": "code",
   "execution_count": 25,
   "id": "ab9ab5e8",
   "metadata": {},
   "outputs": [],
   "source": [
    "from pandas.plotting import scatter_matrix"
   ]
  },
  {
   "cell_type": "code",
   "execution_count": 26,
   "id": "b585e509",
   "metadata": {},
   "outputs": [
    {
     "data": {
      "text/plain": [
       "array([[<matplotlib.axes._subplots.AxesSubplot object at 0x108de9cc0>,\n",
       "        <matplotlib.axes._subplots.AxesSubplot object at 0x11cffc748>,\n",
       "        <matplotlib.axes._subplots.AxesSubplot object at 0x11d0249b0>,\n",
       "        <matplotlib.axes._subplots.AxesSubplot object at 0x11d04ec18>],\n",
       "       [<matplotlib.axes._subplots.AxesSubplot object at 0x11d07e128>,\n",
       "        <matplotlib.axes._subplots.AxesSubplot object at 0x11d0a5630>,\n",
       "        <matplotlib.axes._subplots.AxesSubplot object at 0x11d0ccb70>,\n",
       "        <matplotlib.axes._subplots.AxesSubplot object at 0x11d0fd160>],\n",
       "       [<matplotlib.axes._subplots.AxesSubplot object at 0x11d0fd198>,\n",
       "        <matplotlib.axes._subplots.AxesSubplot object at 0x11d14dc18>,\n",
       "        <matplotlib.axes._subplots.AxesSubplot object at 0x11d17f1d0>,\n",
       "        <matplotlib.axes._subplots.AxesSubplot object at 0x11d1a6748>],\n",
       "       [<matplotlib.axes._subplots.AxesSubplot object at 0x11d1cecc0>,\n",
       "        <matplotlib.axes._subplots.AxesSubplot object at 0x11d1ff278>,\n",
       "        <matplotlib.axes._subplots.AxesSubplot object at 0x11d2277f0>,\n",
       "        <matplotlib.axes._subplots.AxesSubplot object at 0x11d24ed68>]],\n",
       "      dtype=object)"
      ]
     },
     "execution_count": 26,
     "metadata": {},
     "output_type": "execute_result"
    },
    {
     "data": {
      "image/png": "[encoded data removed]",
      "text/plain": [
       "<Figure size 1440x1080 with 16 Axes>"
      ]
     },
     "metadata": {
      "needs_background": "light"
     },
     "output_type": "display_data"
    }
   ],
   "source": [
    "attr=[\"MEDV\",\"RM\",\"ZN\",\"LSTAT\"]\n",
    "scatter_matrix(house_data[attr],figsize=(20,15))"
   ]
  },
  {
   "cell_type": "code",
   "execution_count": 27,
   "id": "85aae546",
   "metadata": {},
   "outputs": [
    {
     "data": {
      "text/plain": [
       "<matplotlib.axes._subplots.AxesSubplot at 0x11d4bf320>"
      ]
     },
     "execution_count": 27,
     "metadata": {},
     "output_type": "execute_result"
    },
    {
     "data": {
      "image/png": "[encoded data removed]",
      "text/plain": [
       "<Figure size 432x288 with 1 Axes>"
      ]
     },
     "metadata": {
      "needs_background": "light"
     },
     "output_type": "display_data"
    }
   ],
   "source": [
    "house_data.plot(kind=\"scatter\",x=\"RM\",y=\"MEDV\",alpha=0.9)#drawing this corr matrix to check for outliers\n",
    "#we can see there are variuos outliers , need to remove them\n",
    "#as they can confuse my models"
   ]
  },
  {
   "cell_type": "code",
   "execution_count": 28,
   "id": "1f67cc3f",
   "metadata": {},
   "outputs": [],
   "source": [
    "#house_data[\"TAXRM\"]=house_data[\"TAX\"]/house_data[\"RM\"]"
   ]
  },
  {
   "cell_type": "code",
   "execution_count": 29,
   "id": "cd0e0808",
   "metadata": {},
   "outputs": [
    {
     "data": {
      "text/plain": [
       "MEDV       1.000000\n",
       "RM         0.695360\n",
       "ZN         0.360445\n",
       "B          0.333461\n",
       "DIS        0.249929\n",
       "CHAS       0.175260\n",
       "AGE       -0.376955\n",
       "RAD       -0.381626\n",
       "CRIM      -0.388305\n",
       "NOX       -0.427321\n",
       "TAX       -0.468536\n",
       "INDUS     -0.483725\n",
       "PTRATIO   -0.507787\n",
       "LSTAT     -0.737663\n",
       "Name: MEDV, dtype: float64"
      ]
     },
     "execution_count": 29,
     "metadata": {},
     "output_type": "execute_result"
    }
   ],
   "source": [
    "correlation_matrix=house_data.corr()\n",
    "correlation_matrix['MEDV'].sort_values(ascending=False)"
   ]
  },
  {
   "cell_type": "code",
   "execution_count": 30,
   "id": "20f6d790",
   "metadata": {},
   "outputs": [],
   "source": [
    "#house_data.plot(kind=\"scatter\",x=\"TAXRM\",y=\"MEDV\",alpha=0.9)"
   ]
  },
  {
   "cell_type": "code",
   "execution_count": 31,
   "id": "66a433d5",
   "metadata": {},
   "outputs": [
    {
     "name": "stdout",
     "output_type": "stream",
     "text": [
      "(404, 14)\n"
     ]
    },
    {
     "data": {
      "text/plain": [
       "(404, 13)"
      ]
     },
     "execution_count": 31,
     "metadata": {},
     "output_type": "execute_result"
    }
   ],
   "source": [
    "print(strat_train.shape)\n",
    "\n",
    "house_data=strat_train.drop(\"MEDV\",axis=1)\n",
    "house_labels=strat_train[\"MEDV\"].copy()\n",
    "\n",
    "house_data.shape"
   ]
  },
  {
   "cell_type": "markdown",
   "id": "32ee385a",
   "metadata": {},
   "source": [
    "# handle missing attributes"
   ]
  },
  {
   "cell_type": "code",
   "execution_count": 32,
   "id": "7f980322",
   "metadata": {},
   "outputs": [
    {
     "data": {
      "text/plain": [
       "(404, 13)"
      ]
     },
     "execution_count": 32,
     "metadata": {},
     "output_type": "execute_result"
    }
   ],
   "source": [
    "#various steps\n",
    "#remove missing data points\n",
    "df=house_data.dropna(subset=[\"RM\"])\n",
    "df.shape\n",
    "\n",
    "#remove whole attribute\n",
    "#set the value to some value=0,mean,medium"
   ]
  },
  {
   "cell_type": "code",
   "execution_count": 33,
   "id": "63de3c91",
   "metadata": {},
   "outputs": [
    {
     "data": {
      "text/plain": [
       "(404, 12)"
      ]
     },
     "execution_count": 33,
     "metadata": {},
     "output_type": "execute_result"
    }
   ],
   "source": [
    "#remove whole attribute\n",
    "house_data.drop(\"RM\",axis=1).shape # original dataframe remain unchanged"
   ]
  },
  {
   "cell_type": "code",
   "execution_count": 34,
   "id": "b1b5860f",
   "metadata": {},
   "outputs": [
    {
     "data": {
      "text/plain": [
       "(404, 13)"
      ]
     },
     "execution_count": 34,
     "metadata": {},
     "output_type": "execute_result"
    }
   ],
   "source": [
    "house_data.shape # original dataframe remain unchanged"
   ]
  },
  {
   "cell_type": "code",
   "execution_count": 35,
   "id": "8c090219",
   "metadata": {},
   "outputs": [],
   "source": [
    "house_data[\"RM\"].fillna(house_data[\"RM\"].median,inplace=True)"
   ]
  },
  {
   "cell_type": "code",
   "execution_count": 36,
   "id": "7db1de50",
   "metadata": {},
   "outputs": [],
   "source": [
    "#house_data[\"RM\"]"
   ]
  },
  {
   "cell_type": "code",
   "execution_count": 37,
   "id": "b2619cfe",
   "metadata": {},
   "outputs": [
    {
     "data": {
      "text/plain": [
       "(404, 13)"
      ]
     },
     "execution_count": 37,
     "metadata": {},
     "output_type": "execute_result"
    }
   ],
   "source": [
    "house_data.shape# original dataframe remain unchanged"
   ]
  },
  {
   "cell_type": "code",
   "execution_count": 38,
   "id": "6cada620",
   "metadata": {},
   "outputs": [
    {
     "data": {
      "text/plain": [
       "(404, 13)"
      ]
     },
     "execution_count": 38,
     "metadata": {},
     "output_type": "execute_result"
    }
   ],
   "source": [
    "house=house_data.copy()# we did this bcoz we need to fit imputer on training set and not on the whole data\n",
    "house.shape"
   ]
  },
  {
   "cell_type": "code",
   "execution_count": 39,
   "id": "26b9e48e",
   "metadata": {},
   "outputs": [
    {
     "data": {
      "text/plain": [
       "SimpleImputer(copy=True, fill_value=None, missing_values=nan,\n",
       "       strategy='median', verbose=0)"
      ]
     },
     "execution_count": 39,
     "metadata": {},
     "output_type": "execute_result"
    }
   ],
   "source": [
    "from sklearn.impute import SimpleImputer\n",
    "imputer=SimpleImputer(strategy=\"median\")\n",
    "imputer.fit(house)"
   ]
  },
  {
   "cell_type": "code",
   "execution_count": 40,
   "id": "d5285773",
   "metadata": {},
   "outputs": [
    {
     "data": {
      "text/plain": [
       "(13,)"
      ]
     },
     "execution_count": 40,
     "metadata": {},
     "output_type": "execute_result"
    }
   ],
   "source": [
    "imputer.statistics_.shape# computed medians for all 15 columns"
   ]
  },
  {
   "cell_type": "code",
   "execution_count": 41,
   "id": "e94f7945",
   "metadata": {},
   "outputs": [],
   "source": [
    "\n",
    "x=imputer.transform(house)"
   ]
  },
  {
   "cell_type": "code",
   "execution_count": 42,
   "id": "f10223a4",
   "metadata": {},
   "outputs": [],
   "source": [
    "tr_house=pd.DataFrame(x,columns=house.columns)"
   ]
  },
  {
   "cell_type": "code",
   "execution_count": 43,
   "id": "164ac7c4",
   "metadata": {},
   "outputs": [
    {
     "data": {
      "text/html": [
       "<div>\n",
       "<style scoped>\n",
       "    .dataframe tbody tr th:only-of-type {\n",
       "        vertical-align: middle;\n",
       "    }\n",
       "\n",
       "    .dataframe tbody tr th {\n",
       "        vertical-align: top;\n",
       "    }\n",
       "\n",
       "    .dataframe thead th {\n",
       "        text-align: right;\n",
       "    }\n",
       "</style>\n",
       "<table border=\"1\" class=\"dataframe\">\n",
       "  <thead>\n",
       "    <tr style=\"text-align: right;\">\n",
       "      <th></th>\n",
       "      <th>CRIM</th>\n",
       "      <th>ZN</th>\n",
       "      <th>INDUS</th>\n",
       "      <th>CHAS</th>\n",
       "      <th>NOX</th>\n",
       "      <th>RM</th>\n",
       "      <th>AGE</th>\n",
       "      <th>DIS</th>\n",
       "      <th>RAD</th>\n",
       "      <th>TAX</th>\n",
       "      <th>PTRATIO</th>\n",
       "      <th>B</th>\n",
       "      <th>LSTAT</th>\n",
       "    </tr>\n",
       "  </thead>\n",
       "  <tbody>\n",
       "    <tr>\n",
       "      <th>count</th>\n",
       "      <td>404.000000</td>\n",
       "      <td>404.000000</td>\n",
       "      <td>404.000000</td>\n",
       "      <td>404.000000</td>\n",
       "      <td>404.000000</td>\n",
       "      <td>404.000000</td>\n",
       "      <td>404.000000</td>\n",
       "      <td>404.000000</td>\n",
       "      <td>404.000000</td>\n",
       "      <td>404.000000</td>\n",
       "      <td>404.000000</td>\n",
       "      <td>404.000000</td>\n",
       "      <td>404.000000</td>\n",
       "    </tr>\n",
       "    <tr>\n",
       "      <th>mean</th>\n",
       "      <td>3.602814</td>\n",
       "      <td>10.836634</td>\n",
       "      <td>11.344950</td>\n",
       "      <td>0.069307</td>\n",
       "      <td>0.558064</td>\n",
       "      <td>6.279908</td>\n",
       "      <td>69.039851</td>\n",
       "      <td>3.746210</td>\n",
       "      <td>9.735149</td>\n",
       "      <td>412.341584</td>\n",
       "      <td>18.473267</td>\n",
       "      <td>353.392822</td>\n",
       "      <td>12.791609</td>\n",
       "    </tr>\n",
       "    <tr>\n",
       "      <th>std</th>\n",
       "      <td>8.099383</td>\n",
       "      <td>22.150636</td>\n",
       "      <td>6.877817</td>\n",
       "      <td>0.254290</td>\n",
       "      <td>0.116875</td>\n",
       "      <td>0.712983</td>\n",
       "      <td>28.258248</td>\n",
       "      <td>2.099057</td>\n",
       "      <td>8.731259</td>\n",
       "      <td>168.672623</td>\n",
       "      <td>2.129243</td>\n",
       "      <td>96.069235</td>\n",
       "      <td>7.235740</td>\n",
       "    </tr>\n",
       "    <tr>\n",
       "      <th>min</th>\n",
       "      <td>0.006320</td>\n",
       "      <td>0.000000</td>\n",
       "      <td>0.740000</td>\n",
       "      <td>0.000000</td>\n",
       "      <td>0.389000</td>\n",
       "      <td>3.561000</td>\n",
       "      <td>2.900000</td>\n",
       "      <td>1.129600</td>\n",
       "      <td>1.000000</td>\n",
       "      <td>187.000000</td>\n",
       "      <td>13.000000</td>\n",
       "      <td>0.320000</td>\n",
       "      <td>1.730000</td>\n",
       "    </tr>\n",
       "    <tr>\n",
       "      <th>25%</th>\n",
       "      <td>0.086963</td>\n",
       "      <td>0.000000</td>\n",
       "      <td>5.190000</td>\n",
       "      <td>0.000000</td>\n",
       "      <td>0.453000</td>\n",
       "      <td>5.878750</td>\n",
       "      <td>44.850000</td>\n",
       "      <td>2.035975</td>\n",
       "      <td>4.000000</td>\n",
       "      <td>284.000000</td>\n",
       "      <td>17.400000</td>\n",
       "      <td>374.617500</td>\n",
       "      <td>6.847500</td>\n",
       "    </tr>\n",
       "    <tr>\n",
       "      <th>50%</th>\n",
       "      <td>0.286735</td>\n",
       "      <td>0.000000</td>\n",
       "      <td>9.900000</td>\n",
       "      <td>0.000000</td>\n",
       "      <td>0.538000</td>\n",
       "      <td>6.210000</td>\n",
       "      <td>78.200000</td>\n",
       "      <td>3.122200</td>\n",
       "      <td>5.000000</td>\n",
       "      <td>337.000000</td>\n",
       "      <td>19.000000</td>\n",
       "      <td>390.955000</td>\n",
       "      <td>11.570000</td>\n",
       "    </tr>\n",
       "    <tr>\n",
       "      <th>75%</th>\n",
       "      <td>3.731923</td>\n",
       "      <td>12.500000</td>\n",
       "      <td>18.100000</td>\n",
       "      <td>0.000000</td>\n",
       "      <td>0.631000</td>\n",
       "      <td>6.630250</td>\n",
       "      <td>94.100000</td>\n",
       "      <td>5.100400</td>\n",
       "      <td>24.000000</td>\n",
       "      <td>666.000000</td>\n",
       "      <td>20.200000</td>\n",
       "      <td>395.630000</td>\n",
       "      <td>17.102500</td>\n",
       "    </tr>\n",
       "    <tr>\n",
       "      <th>max</th>\n",
       "      <td>73.534100</td>\n",
       "      <td>100.000000</td>\n",
       "      <td>27.740000</td>\n",
       "      <td>1.000000</td>\n",
       "      <td>0.871000</td>\n",
       "      <td>8.780000</td>\n",
       "      <td>100.000000</td>\n",
       "      <td>12.126500</td>\n",
       "      <td>24.000000</td>\n",
       "      <td>711.000000</td>\n",
       "      <td>22.000000</td>\n",
       "      <td>396.900000</td>\n",
       "      <td>36.980000</td>\n",
       "    </tr>\n",
       "  </tbody>\n",
       "</table>\n",
       "</div>"
      ],
      "text/plain": [
       "             CRIM          ZN       INDUS        CHAS         NOX          RM  \\\n",
       "count  404.000000  404.000000  404.000000  404.000000  404.000000  404.000000   \n",
       "mean     3.602814   10.836634   11.344950    0.069307    0.558064    6.279908   \n",
       "std      8.099383   22.150636    6.877817    0.254290    0.116875    0.712983   \n",
       "min      0.006320    0.000000    0.740000    0.000000    0.389000    3.561000   \n",
       "25%      0.086963    0.000000    5.190000    0.000000    0.453000    5.878750   \n",
       "50%      0.286735    0.000000    9.900000    0.000000    0.538000    6.210000   \n",
       "75%      3.731923   12.500000   18.100000    0.000000    0.631000    6.630250   \n",
       "max     73.534100  100.000000   27.740000    1.000000    0.871000    8.780000   \n",
       "\n",
       "              AGE         DIS         RAD         TAX     PTRATIO           B  \\\n",
       "count  404.000000  404.000000  404.000000  404.000000  404.000000  404.000000   \n",
       "mean    69.039851    3.746210    9.735149  412.341584   18.473267  353.392822   \n",
       "std     28.258248    2.099057    8.731259  168.672623    2.129243   96.069235   \n",
       "min      2.900000    1.129600    1.000000  187.000000   13.000000    0.320000   \n",
       "25%     44.850000    2.035975    4.000000  284.000000   17.400000  374.617500   \n",
       "50%     78.200000    3.122200    5.000000  337.000000   19.000000  390.955000   \n",
       "75%     94.100000    5.100400   24.000000  666.000000   20.200000  395.630000   \n",
       "max    100.000000   12.126500   24.000000  711.000000   22.000000  396.900000   \n",
       "\n",
       "            LSTAT  \n",
       "count  404.000000  \n",
       "mean    12.791609  \n",
       "std      7.235740  \n",
       "min      1.730000  \n",
       "25%      6.847500  \n",
       "50%     11.570000  \n",
       "75%     17.102500  \n",
       "max     36.980000  "
      ]
     },
     "execution_count": 43,
     "metadata": {},
     "output_type": "execute_result"
    }
   ],
   "source": [
    "tr_house.describe()"
   ]
  },
  {
   "cell_type": "code",
   "execution_count": 44,
   "id": "1e119fc1",
   "metadata": {},
   "outputs": [],
   "source": [
    "#create a pipeline\n",
    "\n",
    "from sklearn.pipeline import Pipeline\n",
    "from sklearn.preprocessing import StandardScaler # for feature scaling(standarization)\n",
    "\n",
    "pipe_house=Pipeline([\n",
    "    ('imputer',SimpleImputer(strategy=\"median\")),#can add as many parameters as i want\n",
    "    ('std_scaler',StandardScaler()),\n",
    "])"
   ]
  },
  {
   "cell_type": "code",
   "execution_count": 45,
   "id": "976f613b",
   "metadata": {},
   "outputs": [],
   "source": [
    "house_num_tr=pipe_house.fit_transform(tr_house)#fitting pipeline on training data"
   ]
  },
  {
   "cell_type": "code",
   "execution_count": 46,
   "id": "4b5d18ff",
   "metadata": {},
   "outputs": [
    {
     "data": {
      "text/plain": [
       "(404, 13)"
      ]
     },
     "execution_count": 46,
     "metadata": {},
     "output_type": "execute_result"
    }
   ],
   "source": [
    "house_num_tr.shape # it is a numpy array"
   ]
  },
  {
   "cell_type": "markdown",
   "id": "a822f2d3",
   "metadata": {},
   "source": [
    "# Select model for prediction "
   ]
  },
  {
   "cell_type": "code",
   "execution_count": 68,
   "id": "bc640ddd",
   "metadata": {},
   "outputs": [
    {
     "name": "stderr",
     "output_type": "stream",
     "text": [
      "/usr/local/lib/python3.7/site-packages/sklearn/ensemble/forest.py:246: FutureWarning: The default value of n_estimators will change from 10 in version 0.20 to 100 in 0.22.\n",
      "  \"10 in version 0.20 to 100 in 0.22.\", FutureWarning)\n"
     ]
    },
    {
     "data": {
      "text/plain": [
       "RandomForestRegressor(bootstrap=True, criterion='mse', max_depth=None,\n",
       "           max_features='auto', max_leaf_nodes=None,\n",
       "           min_impurity_decrease=0.0, min_impurity_split=None,\n",
       "           min_samples_leaf=1, min_samples_split=2,\n",
       "           min_weight_fraction_leaf=0.0, n_estimators=10, n_jobs=None,\n",
       "           oob_score=False, random_state=None, verbose=0, warm_start=False)"
      ]
     },
     "execution_count": 68,
     "metadata": {},
     "output_type": "execute_result"
    }
   ],
   "source": [
    "from sklearn.linear_model import LinearRegression\n",
    "from sklearn.tree import DecisionTreeRegressor\n",
    "from sklearn.ensemble import RandomForestRegressor\n",
    "from sklearn.datasets import make_regression\n",
    "\n",
    "model = RandomForestRegressor()\n",
    "#model=LinearRegression()\n",
    "#model=DecisionTreeRegressor()\n",
    "model.fit(house_num_tr,house_labels)\n"
   ]
  },
  {
   "cell_type": "code",
   "execution_count": 48,
   "id": "20dd1e6d",
   "metadata": {},
   "outputs": [],
   "source": [
    "data1=house_data.iloc[:5]"
   ]
  },
  {
   "cell_type": "code",
   "execution_count": 49,
   "id": "dedbc9ee",
   "metadata": {},
   "outputs": [],
   "source": [
    "labels=house_labels.iloc[:5]"
   ]
  },
  {
   "cell_type": "code",
   "execution_count": 50,
   "id": "120e047b",
   "metadata": {},
   "outputs": [],
   "source": [
    "trans_data=pipe_house.transform(data1)"
   ]
  },
  {
   "cell_type": "code",
   "execution_count": 51,
   "id": "a253c713",
   "metadata": {},
   "outputs": [
    {
     "data": {
      "text/plain": [
       "array([23.16, 25.54, 15.53, 23.38, 23.94])"
      ]
     },
     "execution_count": 51,
     "metadata": {},
     "output_type": "execute_result"
    }
   ],
   "source": [
    "model.predict(trans_data)"
   ]
  },
  {
   "cell_type": "code",
   "execution_count": 52,
   "id": "f8d42468",
   "metadata": {},
   "outputs": [
    {
     "data": {
      "text/plain": [
       "[21.9, 24.5, 16.7, 23.1, 23.0]"
      ]
     },
     "execution_count": 52,
     "metadata": {},
     "output_type": "execute_result"
    }
   ],
   "source": [
    "list(labels)"
   ]
  },
  {
   "cell_type": "code",
   "execution_count": 53,
   "id": "e032da3e",
   "metadata": {},
   "outputs": [],
   "source": [
    "#calculate mean squared error\n",
    "#evaluating model\n",
    "\n",
    "from sklearn.metrics import mean_squared_error\n",
    "predictions=model.predict(house_num_tr)\n",
    "mse=mean_squared_error(house_labels,predictions)\n",
    "rmse=np.sqrt(mse)"
   ]
  },
  {
   "cell_type": "code",
   "execution_count": 54,
   "id": "94cc0db3",
   "metadata": {},
   "outputs": [
    {
     "data": {
      "text/plain": [
       "1.365725064020958"
      ]
     },
     "execution_count": 54,
     "metadata": {},
     "output_type": "execute_result"
    }
   ],
   "source": [
    "rmse"
   ]
  },
  {
   "cell_type": "code",
   "execution_count": 55,
   "id": "c8492e15",
   "metadata": {},
   "outputs": [
    {
     "data": {
      "text/plain": [
       "1.8652049504950494"
      ]
     },
     "execution_count": 55,
     "metadata": {},
     "output_type": "execute_result"
    }
   ],
   "source": [
    "mse# its a heavy error so we'll discard this modelfor linear regression\n",
    "# for decision tree mse is 0 , means its has overfitted the model(model has learned the noice)"
   ]
  },
  {
   "cell_type": "code",
   "execution_count": 56,
   "id": "d02371b3",
   "metadata": {},
   "outputs": [],
   "source": [
    "#discard both of the above models"
   ]
  },
  {
   "cell_type": "markdown",
   "id": "3c7cf4d0",
   "metadata": {},
   "source": [
    "# using better evaluation technique- cross validation"
   ]
  },
  {
   "cell_type": "code",
   "execution_count": 57,
   "id": "3faa76c1",
   "metadata": {},
   "outputs": [],
   "source": [
    "from sklearn.model_selection import cross_val_score\n",
    "scores=cross_val_score(model,house_num_tr,house_labels,scoring=\"neg_mean_squared_error\",cv=10)\n",
    "rmse_scores=np.sqrt(-scores)"
   ]
  },
  {
   "cell_type": "code",
   "execution_count": 58,
   "id": "2f9e8371",
   "metadata": {},
   "outputs": [
    {
     "data": {
      "text/plain": [
       "array([2.92470261, 3.05977123, 4.38914959, 2.79285893, 3.58441278,\n",
       "       2.9562121 , 5.58689292, 3.32974586, 3.24691777, 3.94378308])"
      ]
     },
     "execution_count": 58,
     "metadata": {},
     "output_type": "execute_result"
    }
   ],
   "source": [
    "rmse_scores\n"
   ]
  },
  {
   "cell_type": "code",
   "execution_count": 59,
   "id": "b1b9f81e",
   "metadata": {},
   "outputs": [],
   "source": [
    "def print_scores(score):\n",
    "    print(\"Scores:\",score)\n",
    "    print(\"Mean:\",score.mean())\n",
    "    print(\"Standard deviation:\",score.std())\n",
    "    "
   ]
  },
  {
   "cell_type": "code",
   "execution_count": 60,
   "id": "289f901f",
   "metadata": {
    "scrolled": true
   },
   "outputs": [
    {
     "name": "stdout",
     "output_type": "stream",
     "text": [
      "Scores: [2.92470261 3.05977123 4.38914959 2.79285893 3.58441278 2.9562121\n",
      " 5.58689292 3.32974586 3.24691777 3.94378308]\n",
      "Mean: 3.5814446881725965\n",
      "Standard deviation: 0.8183523045368547\n"
     ]
    }
   ],
   "source": [
    "print_scores(rmse_scores)"
   ]
  },
  {
   "cell_type": "code",
   "execution_count": 61,
   "id": "27c214ff",
   "metadata": {},
   "outputs": [
    {
     "data": {
      "text/plain": [
       "['My_house_predictor.joblib']"
      ]
     },
     "execution_count": 61,
     "metadata": {},
     "output_type": "execute_result"
    }
   ],
   "source": [
    "\n",
    "from joblib import dump, load\n",
    "dump(model, 'My_house_predictor.joblib') "
   ]
  },
  {
   "cell_type": "code",
   "execution_count": 62,
   "id": "6e1d7e96",
   "metadata": {
    "scrolled": true
   },
   "outputs": [
    {
     "name": "stdout",
     "output_type": "stream",
     "text": [
      "[22.67 10.22 24.74 20.87 18.69 14.51 18.5  15.28 33.07 39.49 20.15  9.2\n",
      " 24.49 26.   19.19 10.51 31.29 13.2  23.72 18.   19.64 17.73 13.09 22.14\n",
      " 17.86 32.07 16.21 34.37  8.56 34.34 21.18 21.97 22.79 10.17 20.54 10.8\n",
      " 42.25 24.31 23.69 42.47 24.57 28.86 19.71 20.39 19.98 32.43 44.2  19.49\n",
      " 19.37 21.48 22.45 14.34 20.94 14.89 23.44 31.81 39.82 28.75 18.77 20.75\n",
      " 46.37 10.12 18.23 25.97 14.96 32.95 17.36 17.13 18.69 35.64 28.71 23.36\n",
      " 22.31 21.24 35.01 13.26 16.48 19.62 20.41 21.1  22.53 24.81 14.49 23.4\n",
      " 21.38 21.6  11.64 22.19 25.39 23.85 19.21 28.04  6.75 25.7  17.27 30.03\n",
      " 19.82 30.19 14.78 27.52 20.93 19.83] [16.5, 10.2, 30.1, 23.0, 14.4, 15.6, 19.4, 14.1, 30.3, 35.2, 23.1, 13.8, 25.0, 27.9, 19.5, 12.3, 32.2, 13.5, 23.8, 21.7, 19.2, 19.5, 10.4, 23.2, 18.6, 28.5, 15.2, 32.0, 7.2, 34.6, 20.1, 20.6, 23.6, 13.1, 23.8, 12.7, 43.1, 24.7, 22.2, 44.0, 28.1, 31.0, 21.7, 23.4, 19.5, 33.1, 41.7, 18.7, 19.9, 20.6, 21.2, 13.6, 20.3, 17.8, 27.1, 31.5, 50.0, 29.1, 18.9, 20.4, 50.0, 7.2, 17.2, 36.2, 14.6, 33.2, 23.8, 19.9, 21.5, 37.3, 27.0, 22.0, 24.3, 19.8, 33.3, 7.0, 19.4, 20.9, 21.1, 20.4, 22.2, 11.9, 11.7, 21.6, 19.7, 23.0, 16.7, 21.7, 20.6, 23.3, 19.6, 28.0, 5.0, 24.4, 20.8, 24.8, 21.8, 23.6, 19.0, 25.0, 20.3, 21.5]\n"
     ]
    }
   ],
   "source": [
    "#test model on test data\n",
    "x_test=strat_test.drop(\"MEDV\",axis=1)\n",
    "y_test=strat_test[\"MEDV\"].copy()\n",
    "x_test_tras=pipe_house.transform(x_test)\n",
    "final_pred=model.predict(x_test_tras)\n",
    "final_mse=mean_squared_error(y_test,final_pred)\n",
    "final_rmse=np.sqrt(mse)\n",
    "\n",
    "print(final_pred,list(y_test))\n"
   ]
  },
  {
   "cell_type": "code",
   "execution_count": 63,
   "id": "2785c475",
   "metadata": {},
   "outputs": [
    {
     "data": {
      "text/plain": [
       "1.365725064020958"
      ]
     },
     "execution_count": 63,
     "metadata": {},
     "output_type": "execute_result"
    }
   ],
   "source": [
    "final_rmse"
   ]
  },
  {
   "cell_type": "code",
   "execution_count": 66,
   "id": "271a75a9",
   "metadata": {},
   "outputs": [
    {
     "data": {
      "text/plain": [
       "-0.4422892678796334"
      ]
     },
     "execution_count": 66,
     "metadata": {},
     "output_type": "execute_result"
    }
   ],
   "source": [
    "x_test_tras[0][0]"
   ]
  },
  {
   "cell_type": "code",
   "execution_count": 65,
   "id": "b11b2d9c",
   "metadata": {},
   "outputs": [
    {
     "data": {
      "text/plain": [
       "dtype('float64')"
      ]
     },
     "execution_count": 65,
     "metadata": {},
     "output_type": "execute_result"
    }
   ],
   "source": [
    "x_test_tras.dtype"
   ]
  },
  {
   "cell_type": "code",
   "execution_count": null,
   "id": "6fe4402b",
   "metadata": {},
   "outputs": [],
   "source": []
  }
 ],
 "metadata": {
  "kernelspec": {
   "display_name": "Python 3 (ipykernel)",
   "language": "python",
   "name": "python3"
  },
  "language_info": {
   "codemirror_mode": {
    "name": "ipython",
    "version": 3
   },
   "file_extension": ".py",
   "mimetype": "text/x-python",
   "name": "python",
   "nbconvert_exporter": "python",
   "pygments_lexer": "ipython3",
   "version": "3.7.3"
  }
 },
 "nbformat": 4,
 "nbformat_minor": 5
}
